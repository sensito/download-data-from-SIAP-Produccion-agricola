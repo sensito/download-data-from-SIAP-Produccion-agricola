{
 "cells": [
  {
   "cell_type": "code",
   "execution_count": 1,
   "metadata": {},
   "outputs": [],
   "source": [
    "import pandas as pd\n",
    "import numpy as np\n",
    "import os\n",
    "\n",
    "import glob"
   ]
  },
  {
   "cell_type": "code",
   "execution_count": 2,
   "metadata": {},
   "outputs": [],
   "source": [
    "path_data = \"./datos_Estadistica_de_la_Produccion_Agricola_de _1980_2002\"\n",
    "path_Datos_Maiz = \"./datos_Csv_Maiz\""
   ]
  },
  {
   "cell_type": "code",
   "execution_count": 3,
   "metadata": {},
   "outputs": [],
   "source": [
    "nombre_guardar_csv = path_Datos_Maiz + \"/csv_Maiz_1980_2002.csv\""
   ]
  },
  {
   "cell_type": "code",
   "execution_count": 4,
   "metadata": {},
   "outputs": [],
   "source": [
    "maximo = 2002\n",
    "minimo = 1980"
   ]
  },
  {
   "cell_type": "code",
   "execution_count": 5,
   "metadata": {},
   "outputs": [],
   "source": [
    "datos_csv = glob.glob(path_data + \"/*.csv\")"
   ]
  },
  {
   "cell_type": "code",
   "execution_count": 6,
   "metadata": {},
   "outputs": [],
   "source": [
    "columns = ['Anio', 'Idestado', 'Nomestado', 'Idciclo', 'Nomcicloproductivo',\n",
    "       'Idmodalidad', 'Nommodalidad', 'Idunidadmedida', 'Nomunidad',\n",
    "       'Idcultivo', 'Nomcultivo', 'Sembrada', 'Cosechada', 'Siniestrada',\n",
    "       'Volumenproduccion', 'Rendimiento', 'Precio', 'Valorproduccion']"
   ]
  },
  {
   "cell_type": "code",
   "execution_count": 7,
   "metadata": {},
   "outputs": [],
   "source": [
    "df = pd.DataFrame(columns = columns)\n",
    "for key in range(0, len(datos_csv)):\n",
    "    df_temp = pd.read_csv(datos_csv[key], index_col=0)\n",
    "    df_maiz_temp = df_temp[(df_temp.Nomcultivo == \"Maíz forrajero en verde\") | (df_temp.Nomcultivo == \"Maíz grano\")]\n",
    "    df_maiz_temp.reset_index(drop=True, inplace=True)\n",
    "    df  = pd.concat([df, df_maiz_temp], axis=0)"
   ]
  },
  {
   "cell_type": "code",
   "execution_count": 8,
   "metadata": {},
   "outputs": [],
   "source": [
    "df.reset_index(drop=True, inplace=True)"
   ]
  },
  {
   "cell_type": "code",
   "execution_count": 9,
   "metadata": {},
   "outputs": [],
   "source": [
    "df.to_csv(nombre_guardar_csv)"
   ]
  }
 ],
 "metadata": {
  "kernelspec": {
   "display_name": "Python 3",
   "language": "python",
   "name": "python3"
  },
  "language_info": {
   "codemirror_mode": {
    "name": "ipython",
    "version": 3
   },
   "file_extension": ".py",
   "mimetype": "text/x-python",
   "name": "python",
   "nbconvert_exporter": "python",
   "pygments_lexer": "ipython3",
   "version": "3.7.7"
  }
 },
 "nbformat": 4,
 "nbformat_minor": 4
}
