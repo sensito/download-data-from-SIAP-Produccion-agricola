{
 "cells": [
  {
   "cell_type": "markdown",
   "metadata": {},
   "source": [
    "<img src='./siap.png'>\n",
    "<h1><center>Digital image processing</center><h1>\n",
    "    \n",
    "# 1. <a id='Introduction'>Introduccion 🃏 </a>\n",
    "    \n",
    "###  1.1 <a id='What_is_it'>Que es el Procesamiento digital de imágenes (Digital image processing)</a> \n",
    "* El procesamiento de imágenes digitales es el conjunto de técnicas que se aplican a las imágenes digitales con el objetivo de mejorar la calidad o facilitar la búsqueda de información. \n",
    "    \n",
    "    Para saber mas ver: [opencv](https://opencv.org/)"
   ]
  },
  {
   "cell_type": "code",
   "execution_count": 1,
   "metadata": {},
   "outputs": [],
   "source": [
    "import pandas as pd\n",
    "import numpy as np\n",
    "\n",
    "import os\n",
    "\n",
    "from tqdm import tqdm\n",
    "import requests \n",
    "\n",
    "import urllib"
   ]
  },
  {
   "cell_type": "code",
   "execution_count": 2,
   "metadata": {},
   "outputs": [],
   "source": [
    "def create_folder(destination_Directory):\n",
    "    try:\n",
    "        os.stat(destination_Directory)\n",
    "    except:\n",
    "        os.mkdir(destination_Directory)"
   ]
  },
  {
   "cell_type": "code",
   "execution_count": 3,
   "metadata": {},
   "outputs": [],
   "source": [
    "def create_folders():\n",
    "    create_folder(\"./datos_Csv_Maiz\")\n",
    "    create_folder(\"./datos_Estadistica_de_la_Produccion_Agricola_de _1980_2002\")\n",
    "    create_folder(\"./datos_Estadistica_de_la_Produccion_Agricola_de _2003_2019\")"
   ]
  },
  {
   "cell_type": "code",
   "execution_count": 4,
   "metadata": {},
   "outputs": [],
   "source": [
    "create_folders()"
   ]
  },
  {
   "cell_type": "code",
   "execution_count": 5,
   "metadata": {},
   "outputs": [],
   "source": [
    "url_Estadistica_Produccion_Agricola = \"http://infosiap.siap.gob.mx/gobmx/datosAbiertos/ProduccionAgricola/Cierre_agricola_\"\n",
    "\n",
    "url_Diccionario_Produccion_Agricola = \"http://infosiap.siap.gob.mx/gobmx/datosAbiertos/ProduccionAgricola/Diccionario%20agr%C3%ADcola%201980%20a%202002.xlsx\"\n"
   ]
  },
  {
   "cell_type": "code",
   "execution_count": 6,
   "metadata": {},
   "outputs": [],
   "source": [
    "extension_Estadistica = \".csv\"\n",
    "extension_Diccionario = \".xlsx\""
   ]
  },
  {
   "cell_type": "code",
   "execution_count": 7,
   "metadata": {},
   "outputs": [],
   "source": [
    "path_datos = \"./datos_Estadistica_de_la_Produccion_Agricola_de _1980_2002\""
   ]
  },
  {
   "cell_type": "code",
   "execution_count": 8,
   "metadata": {},
   "outputs": [],
   "source": [
    "nombre_Estadistica_Produccion_Agricola = path_datos + \"/Estadistica_de_la_Produccion_Agricola_de_\"\n",
    "nombre_Diccionario_Produccion_Agricola = path_datos + \"/Diccionario_de_datos_para_Estadistica_de_Produccion_Agricola\""
   ]
  },
  {
   "cell_type": "code",
   "execution_count": 9,
   "metadata": {},
   "outputs": [],
   "source": [
    "maximo = 2002\n",
    "minimo = 1980"
   ]
  },
  {
   "cell_type": "code",
   "execution_count": 10,
   "metadata": {},
   "outputs": [
    {
     "name": "stderr",
     "output_type": "stream",
     "text": [
      "100%|██████████| 23/23 [01:19<00:00,  3.45s/it]\n"
     ]
    }
   ],
   "source": [
    "for key in tqdm(range(minimo, maximo + 1)):\n",
    "    url_Produccion = url_Estadistica_Produccion_Agricola + str(key) + extension_Estadistica\n",
    "    df = pd.read_csv(url_Produccion, encoding='latin-1')\n",
    "    df.to_csv(nombre_Estadistica_Produccion_Agricola + str(key) + extension_Estadistica)\n",
    "    if key == maximo:\n",
    "        urllib.request.urlretrieve(url_Diccionario_Produccion_Agricola, nombre_Diccionario_Produccion_Agricola + extension_Diccionario)\n"
   ]
  }
 ],
 "metadata": {
  "kernelspec": {
   "display_name": "Python 3",
   "language": "python",
   "name": "python3"
  },
  "language_info": {
   "codemirror_mode": {
    "name": "ipython",
    "version": 3
   },
   "file_extension": ".py",
   "mimetype": "text/x-python",
   "name": "python",
   "nbconvert_exporter": "python",
   "pygments_lexer": "ipython3",
   "version": "3.7.7"
  }
 },
 "nbformat": 4,
 "nbformat_minor": 4
}
