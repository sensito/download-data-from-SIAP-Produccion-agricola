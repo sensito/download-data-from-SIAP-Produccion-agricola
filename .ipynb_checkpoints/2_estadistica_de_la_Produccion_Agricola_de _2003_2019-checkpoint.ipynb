{
 "cells": [
  {
   "cell_type": "code",
   "execution_count": 1,
   "metadata": {},
   "outputs": [],
   "source": [
    "import pandas as pd\n",
    "import numpy as np\n",
    "\n",
    "from tqdm import tqdm\n",
    "import requests \n",
    "\n",
    "import urllib"
   ]
  },
  {
   "cell_type": "code",
   "execution_count": 2,
   "metadata": {},
   "outputs": [],
   "source": [
    "url_Estadistica_Produccion_Agricola = \"http://infosiap.siap.gob.mx/gobmx/datosAbiertos/ProduccionAgricola/Cierre_agricola_mun_\"\n",
    "\n",
    "url_Diccionario_Produccion_Agricola = \"http://infosiap.siap.gob.mx/gobmx/datosAbiertos/ProduccionAgricola/Diccionario%20agr%C3%ADcola%202003%20a%202017.xlsx\""
   ]
  },
  {
   "cell_type": "code",
   "execution_count": 3,
   "metadata": {},
   "outputs": [],
   "source": [
    "extension_Estadistica = \".csv\"\n",
    "extension_Diccionario = \".xlsx\""
   ]
  },
  {
   "cell_type": "code",
   "execution_count": 4,
   "metadata": {},
   "outputs": [],
   "source": [
    "path_datos = \"./datos_Estadistica_de_la_Produccion_Agricola_de _2003_2019\""
   ]
  },
  {
   "cell_type": "code",
   "execution_count": 5,
   "metadata": {},
   "outputs": [],
   "source": [
    "nombre_Estadistica_Produccion_Agricola = path_datos + \"/Estadistica_de_la_Produccion_Agricola_de_\"\n",
    "nombre_Diccionario_Produccion_Agricola = path_datos + \"/Diccionario_de_datos_para_Estadistica_de_Produccion_Agricola\""
   ]
  },
  {
   "cell_type": "code",
   "execution_count": 6,
   "metadata": {},
   "outputs": [],
   "source": [
    "maximo = 2019\n",
    "minimo = 2003"
   ]
  },
  {
   "cell_type": "code",
   "execution_count": 7,
   "metadata": {},
   "outputs": [
    {
     "name": "stderr",
     "output_type": "stream",
     "text": [
      " 35%|███▌      | 6/17 [03:29<05:38, 30.80s/it]/home/saxsa/anaconda3/lib/python3.7/site-packages/IPython/core/interactiveshell.py:3063: DtypeWarning: Columns (21) have mixed types.Specify dtype option on import or set low_memory=False.\n",
      "  interactivity=interactivity, compiler=compiler, result=result)\n",
      "100%|██████████| 17/17 [10:11<00:00, 35.96s/it]\n"
     ]
    }
   ],
   "source": [
    "for key in tqdm(range(minimo, maximo + 1)):\n",
    "    url_Produccion = url_Estadistica_Produccion_Agricola + str(key) + extension_Estadistica\n",
    "    df = pd.read_csv(url_Produccion, encoding='latin-1')\n",
    "    df.to_csv(nombre_Estadistica_Produccion_Agricola + str(key) + extension_Estadistica)\n",
    "    if key == maximo:\n",
    "        urllib.request.urlretrieve(url_Diccionario_Produccion_Agricola, nombre_Diccionario_Produccion_Agricola + extension_Diccionario)"
   ]
  }
 ],
 "metadata": {
  "kernelspec": {
   "display_name": "Python 3",
   "language": "python",
   "name": "python3"
  },
  "language_info": {
   "codemirror_mode": {
    "name": "ipython",
    "version": 3
   },
   "file_extension": ".py",
   "mimetype": "text/x-python",
   "name": "python",
   "nbconvert_exporter": "python",
   "pygments_lexer": "ipython3",
   "version": "3.7.7"
  }
 },
 "nbformat": 4,
 "nbformat_minor": 4
}
