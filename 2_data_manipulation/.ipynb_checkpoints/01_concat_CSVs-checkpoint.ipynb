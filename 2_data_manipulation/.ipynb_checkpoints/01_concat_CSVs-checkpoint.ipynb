{
 "cells": [
  {
   "cell_type": "code",
   "execution_count": 81,
   "metadata": {},
   "outputs": [],
   "source": [
    "import pandas as pd\n",
    "import numpy as np\n",
    "import os\n",
    "import glob\n",
    "\n",
    "import sys\n",
    "sys.path.insert(0, \"../01_data_acquisition/DataPreparation.py\")"
   ]
  },
  {
   "cell_type": "code",
   "execution_count": 86,
   "metadata": {},
   "outputs": [],
   "source": [
    "from DataPreparation import rango_datos"
   ]
  },
  {
   "cell_type": "code",
   "execution_count": 93,
   "metadata": {},
   "outputs": [],
   "source": [
    "def column_Names(option):\n",
    "    if option == 1:\n",
    "        columns = ['Anio', 'Idestado', 'Nomestado', 'Idciclo', 'Nomcicloproductivo',\n",
    "           'Idmodalidad', 'Nommodalidad', 'Idunidadmedida', 'Nomunidad',\n",
    "           'Idcultivo', 'Nomcultivo', 'Sembrada', 'Cosechada', 'Siniestrada',\n",
    "           'Volumenproduccion', 'Rendimiento', 'Precio', 'Valorproduccion']\n",
    "        return columns\n",
    "    if option == 2:\n",
    "        columns = ['Anio', 'Idestado', 'Nomestado', 'Idddr', 'Nomddr', 'Idcader',\n",
    "           'Nomcader', 'Idmunicipio', 'Nommunicipio', 'Idciclo',\n",
    "           'Nomcicloproductivo', 'Idmodalidad', 'Nommodalidad', 'Idunidadmedida',\n",
    "           'Nomunidad', 'Idcultivo', 'Nomcultivo', 'Sembrada', 'Cosechada',\n",
    "           'Siniestrada', 'Volumenproduccion', 'Rendimiento', 'Precio',\n",
    "           'Valorproduccion']\n",
    "        return columns"
   ]
  },
  {
   "cell_type": "code",
   "execution_count": 97,
   "metadata": {},
   "outputs": [],
   "source": [
    "def concatCSVs(path_data, path_save, columns, nombre_guardar_csv):\n",
    "    datos_csv = glob.glob(path_data + \"/*.csv\")\n",
    "    df = pd.DataFrame(columns = columns)\n",
    "    for key in range(0, len(datos_csv)):\n",
    "        df_temp = pd.read_csv(datos_csv[key], index_col=0)\n",
    "        df_temp.reset_index(drop=True, inplace=True)\n",
    "        df = pd.concat([df, df_temp], axis=0)\n",
    "        \n",
    "    df.reset_index(drop=True, inplace=True)\n",
    "\n",
    "    df.to_csv(nombre_guardar_csv)"
   ]
  },
  {
   "cell_type": "code",
   "execution_count": 100,
   "metadata": {},
   "outputs": [],
   "source": [
    "def proces_Concat(option):\n",
    "    maximo, minimo = rango_datos(option)\n",
    "    path_data = \"../datos_Estadistica_de_la_Produccion_Agricola_de _\" + str(minimo)+ \"_\" + str(maximo)\n",
    "    path_save = \"../datos_Csvs\"\n",
    "    os.makedirs(path_save, exist_ok=True)\n",
    "    nombre_guardar_csv = path_save + \"/csv_\" + str(minimo)+ \"_\" + str(maximo)+ \".csv\"\n",
    "    columns = column_Names(option)\n",
    "    concatCSVs(path_data, path_save, columns, nombre_guardar_csv)"
   ]
  }
 ],
 "metadata": {
  "kernelspec": {
   "display_name": "Python 3",
   "language": "python",
   "name": "python3"
  },
  "language_info": {
   "codemirror_mode": {
    "name": "ipython",
    "version": 3
   },
   "file_extension": ".py",
   "mimetype": "text/x-python",
   "name": "python",
   "nbconvert_exporter": "python",
   "pygments_lexer": "ipython3",
   "version": "3.7.7"
  }
 },
 "nbformat": 4,
 "nbformat_minor": 4
}
