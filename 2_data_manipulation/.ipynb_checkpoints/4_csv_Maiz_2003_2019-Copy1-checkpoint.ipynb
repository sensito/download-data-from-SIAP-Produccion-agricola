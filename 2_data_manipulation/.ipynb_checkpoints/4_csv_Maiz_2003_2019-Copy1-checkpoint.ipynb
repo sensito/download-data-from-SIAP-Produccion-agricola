{
 "cells": [
  {
   "cell_type": "code",
   "execution_count": 1,
   "metadata": {},
   "outputs": [],
   "source": [
    "import pandas as pd\n",
    "import numpy as np\n",
    "\n",
    "import glob"
   ]
  },
  {
   "cell_type": "code",
   "execution_count": 2,
   "metadata": {},
   "outputs": [],
   "source": [
    "path_data = \"./datos_Estadistica_de_la_Produccion_Agricola_de _2003_2019\"\n",
    "path_Datos_Maiz = \"./datos_Csv_Maiz\""
   ]
  },
  {
   "cell_type": "code",
   "execution_count": 3,
   "metadata": {},
   "outputs": [],
   "source": [
    "nombre_guardar_csv = path_Datos_Maiz + \"/csv_Maiz_2003_2019.csv\""
   ]
  },
  {
   "cell_type": "code",
   "execution_count": 4,
   "metadata": {},
   "outputs": [],
   "source": [
    "maximo = 2019\n",
    "minimo = 2003"
   ]
  },
  {
   "cell_type": "code",
   "execution_count": 5,
   "metadata": {},
   "outputs": [],
   "source": [
    "ggCuadros = glob.glob(path_data + \"/*.csv\")"
   ]
  },
  {
   "cell_type": "code",
   "execution_count": 6,
   "metadata": {},
   "outputs": [],
   "source": [
    "columns = ['Anio', 'Idestado', 'Nomestado', 'Idddr', 'Nomddr', 'Idcader',\n",
    "       'Nomcader', 'Idmunicipio', 'Nommunicipio', 'Idciclo',\n",
    "       'Nomcicloproductivo', 'Idmodalidad', 'Nommodalidad', 'Idunidadmedida',\n",
    "       'Nomunidad', 'Idcultivo', 'Nomcultivo', 'Sembrada', 'Cosechada',\n",
    "       'Siniestrada', 'Volumenproduccion', 'Rendimiento', 'Precio',\n",
    "       'Valorproduccion']"
   ]
  }
 ],
 "metadata": {
  "kernelspec": {
   "display_name": "Python 3",
   "language": "python",
   "name": "python3"
  },
  "language_info": {
   "codemirror_mode": {
    "name": "ipython",
    "version": 3
   },
   "file_extension": ".py",
   "mimetype": "text/x-python",
   "name": "python",
   "nbconvert_exporter": "python",
   "pygments_lexer": "ipython3",
   "version": "3.7.7"
  }
 },
 "nbformat": 4,
 "nbformat_minor": 4
}
