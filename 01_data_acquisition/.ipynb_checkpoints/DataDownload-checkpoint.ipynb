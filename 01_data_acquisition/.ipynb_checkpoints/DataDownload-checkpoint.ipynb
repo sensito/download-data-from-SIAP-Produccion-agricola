{
 "cells": [
  {
   "cell_type": "code",
   "execution_count": 1,
   "metadata": {},
   "outputs": [],
   "source": [
    "import os\n",
    "\n",
    "from DataPreparation import downloaddata_1\n",
    "from DataPreparation import downloaddata_2"
   ]
  },
  {
   "cell_type": "code",
   "execution_count": 2,
   "metadata": {},
   "outputs": [],
   "source": [
    "def runDataDownload():\n",
    "    url_Estadistica_Produccion_Agricola = \"http://infosiap.siap.gob.mx/gobmx/datosAbiertos/ProduccionAgricola/Cierre_agricola_\"\n",
    "    url_Diccionario_Produccion_Agricola = \"http://infosiap.siap.gob.mx/gobmx/datosAbiertos/ProduccionAgricola/Diccionario%20agr%C3%ADcola%201980%20a%202002.xlsx\"\n",
    "    dest_Folder = \"../datos_Estadistica_de_la_Produccion_Agricola_de _1980_2002\"\n",
    "    os.makedirs(dest_Folder, exist_ok=True)\n",
    "    option = 1\n",
    "    downloaddata(dest_Folder, url_Estadistica_Produccion_Agricola, url_Diccionario_Produccion_Agricola, option)\n",
    "\n",
    "    \n",
    "    url_Estadistica_Produccion_Agricola = \"http://infosiap.siap.gob.mx/gobmx/datosAbiertos/ProduccionAgricola/Cierre_agricola_mun_\"\n",
    "    url_Diccionario_Produccion_Agricola = \"http://infosiap.siap.gob.mx/gobmx/datosAbiertos/ProduccionAgricola/Diccionario%20agr%C3%ADcola%202003%20a%202017.xlsx\"\n",
    "    dest_Folder = \"../datos_Estadistica_de_la_Produccion_Agricola_de _2003_2019\"   \n",
    "    os.makedirs(dest_Folder, exist_ok=True)\n",
    "    option = 2\n",
    "    downloaddata(dest_Folder, url_Estadistica_Produccion_Agricola, url_Diccionario_Produccion_Agricola, option)"
   ]
  }
 ],
 "metadata": {
  "kernelspec": {
   "display_name": "Python 3",
   "language": "python",
   "name": "python3"
  },
  "language_info": {
   "codemirror_mode": {
    "name": "ipython",
    "version": 3
   },
   "file_extension": ".py",
   "mimetype": "text/x-python",
   "name": "python",
   "nbconvert_exporter": "python",
   "pygments_lexer": "ipython3",
   "version": "3.7.7"
  }
 },
 "nbformat": 4,
 "nbformat_minor": 4
}
