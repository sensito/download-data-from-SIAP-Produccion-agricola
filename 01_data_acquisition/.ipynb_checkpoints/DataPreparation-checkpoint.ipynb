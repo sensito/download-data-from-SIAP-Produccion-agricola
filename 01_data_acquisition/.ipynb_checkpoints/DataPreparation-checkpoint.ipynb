{
 "cells": [
  {
   "cell_type": "code",
   "execution_count": 13,
   "metadata": {},
   "outputs": [],
   "source": [
    "import pandas as pd\n",
    "import numpy as np\n",
    "\n",
    "import os\n",
    "\n",
    "from tqdm import tqdm\n",
    "\n",
    "import urllib"
   ]
  },
  {
   "cell_type": "markdown",
   "metadata": {},
   "source": [
    "## Get data\n",
    "\n",
    "---"
   ]
  },
  {
   "cell_type": "code",
   "execution_count": 9,
   "metadata": {},
   "outputs": [],
   "source": [
    "def downloaddata(dest_Folder, url_Estadistica_Produccion_Agricola, url_Diccionario_Produccion_Agricola, option):    \n",
    "    name_Statistics = \"/Estadistica_de_la_Produccion_Agricola_de_\"\n",
    "    dictionary_Name = \"/Diccionario_de_datos_para_Estadistica_de_Produccion_Agricola\"\n",
    "    \n",
    "    extension_Estadistica = \".csv\"\n",
    "    extension_Diccionario = \".xlsx\"\n",
    "    \n",
    "    nombre_Estadistica_Produccion_Agricola = dest_Folder + name_Statistics\n",
    "    nombre_Diccionario_Produccion_Agricola = dest_Folder + dictionary_Name\n",
    "\n",
    "    maximo, minimo = rango_datos(option)\n",
    "    \n",
    "    for key in tqdm(range(minimo, maximo + 1)):\n",
    "        \n",
    "        url_Produccion = url_Estadistica_Produccion_Agricola + str(key) + extension_Estadistica\n",
    "        df = pd.read_csv(url_Produccion, encoding='latin-1')\n",
    "        df.to_csv(nombre_Estadistica_Produccion_Agricola + str(key) + extension_Estadistica)\n",
    "        \n",
    "        if key == minimo:\n",
    "            urllib.request.urlretrieve(url_Diccionario_Produccion_Agricola, nombre_Diccionario_Produccion_Agricola + extension_Diccionario)"
   ]
  },
  {
   "cell_type": "code",
   "execution_count": 10,
   "metadata": {},
   "outputs": [],
   "source": [
    "def rango_datos(option):\n",
    "    if option == 1:\n",
    "        return 2002, 1980\n",
    "    if option == 2:\n",
    "        return 2019,2003"
   ]
  }
 ],
 "metadata": {
  "kernelspec": {
   "display_name": "Python 3",
   "language": "python",
   "name": "python3"
  },
  "language_info": {
   "codemirror_mode": {
    "name": "ipython",
    "version": 3
   },
   "file_extension": ".py",
   "mimetype": "text/x-python",
   "name": "python",
   "nbconvert_exporter": "python",
   "pygments_lexer": "ipython3",
   "version": "3.7.7"
  }
 },
 "nbformat": 4,
 "nbformat_minor": 4
}
