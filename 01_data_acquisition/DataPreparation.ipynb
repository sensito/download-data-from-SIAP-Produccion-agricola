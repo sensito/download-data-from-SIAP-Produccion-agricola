{
 "cells": [
  {
   "cell_type": "code",
   "execution_count": 1,
   "metadata": {},
   "outputs": [],
   "source": [
    "import pandas as pd\n",
    "import numpy as np\n",
    "\n",
    "import os\n",
    "\n",
    "from tqdm import tqdm\n",
    "\n",
    "import urllib"
   ]
  },
  {
   "cell_type": "markdown",
   "metadata": {},
   "source": [
    "## Get data\n",
    "\n",
    "---"
   ]
  },
  {
   "cell_type": "code",
   "execution_count": 5,
   "metadata": {},
   "outputs": [],
   "source": [
    "def downloaddata_1(dest_Folder, name_Statistics, dictionary_Name):\n",
    "    \n",
    "    url_Estadistica_Produccion_Agricola = \"http://infosiap.siap.gob.mx/gobmx/datosAbiertos/ProduccionAgricola/Cierre_agricola_\"\n",
    "    url_Diccionario_Produccion_Agricola = \"http://infosiap.siap.gob.mx/gobmx/datosAbiertos/ProduccionAgricola/Diccionario%20agr%C3%ADcola%201980%20a%202002.xlsx\"\n",
    "    \n",
    "    extension_Estadistica = \".csv\"\n",
    "    extension_Diccionario = \".xlsx\"\n",
    "    \n",
    "    nombre_Estadistica_Produccion_Agricola = dest_Folder + name_Statistics\n",
    "    nombre_Diccionario_Produccion_Agricola = dest_Folder + dictionary_Name\n",
    "\n",
    "    maximo = 2002\n",
    "    minimo = 1980\n",
    "    \n",
    "    for key in tqdm(range(minimo, maximo + 1)):\n",
    "        \n",
    "        url_Produccion = url_Estadistica_Produccion_Agricola + str(key) + extension_Estadistica\n",
    "        df = pd.read_csv(url_Produccion, encoding='latin-1')\n",
    "        df.to_csv(nombre_Estadistica_Produccion_Agricola + str(key) + extension_Estadistica)\n",
    "        \n",
    "        if key == maximo:\n",
    "            urllib.request.urlretrieve(url_Diccionario_Produccion_Agricola, nombre_Diccionario_Produccion_Agricola + extension_Diccionario)"
   ]
  },
  {
   "cell_type": "code",
   "execution_count": 3,
   "metadata": {},
   "outputs": [],
   "source": [
    "def downloaddata_2(dest_Folder, name_Statistics, dictionary_Name):    \n",
    "    url_Estadistica_Produccion_Agricola = \"http://infosiap.siap.gob.mx/gobmx/datosAbiertos/ProduccionAgricola/Cierre_agricola_mun_\"\n",
    "    url_Diccionario_Produccion_Agricola = \"http://infosiap.siap.gob.mx/gobmx/datosAbiertos/ProduccionAgricola/Diccionario%20agr%C3%ADcola%202003%20a%202017.xlsx\"\n",
    "    \n",
    "    extension_Estadistica = \".csv\"\n",
    "    extension_Diccionario = \".xlsx\"\n",
    "    \n",
    "    nombre_Estadistica_Produccion_Agricola = dest_Folder + name_Statistics\n",
    "    nombre_Diccionario_Produccion_Agricola = dest_Folder + dictionary_Name\n",
    "\n",
    "    maximo = 2019\n",
    "    minimo = 2003\n",
    "    \n",
    "    for key in tqdm(range(minimo, maximo + 1)):\n",
    "        \n",
    "        url_Produccion = url_Estadistica_Produccion_Agricola + str(key) + extension_Estadistica\n",
    "        df = pd.read_csv(url_Produccion, encoding='latin-1')\n",
    "        df.to_csv(nombre_Estadistica_Produccion_Agricola + str(key) + extension_Estadistica)\n",
    "        \n",
    "        if key == maximo:\n",
    "            urllib.request.urlretrieve(url_Diccionario_Produccion_Agricola, nombre_Diccionario_Produccion_Agricola + extension_Diccionario)"
   ]
  }
 ],
 "metadata": {
  "kernelspec": {
   "display_name": "Python 3",
   "language": "python",
   "name": "python3"
  },
  "language_info": {
   "codemirror_mode": {
    "name": "ipython",
    "version": 3
   },
   "file_extension": ".py",
   "mimetype": "text/x-python",
   "name": "python",
   "nbconvert_exporter": "python",
   "pygments_lexer": "ipython3",
   "version": "3.7.7"
  }
 },
 "nbformat": 4,
 "nbformat_minor": 4
}
