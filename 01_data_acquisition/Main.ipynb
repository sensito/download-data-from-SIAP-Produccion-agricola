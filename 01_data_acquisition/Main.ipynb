{
 "cells": [
  {
   "cell_type": "markdown",
   "metadata": {},
   "source": [
    "<img src='./siap.png'>\n",
    "<h1><center>Digital image processing</center><h1>\n",
    "    \n",
    "# 1. <a id='Introduction'>Introduccion 🃏 </a>\n",
    "    \n",
    "###  1.1 <a id='What_is_it'>Que es el Procesamiento digital de imágenes (Digital image processing)</a> \n",
    "* El procesamiento de imágenes digitales es el conjunto de técnicas que se aplican a las imágenes digitales con el objetivo de mejorar la calidad o facilitar la búsqueda de información. \n",
    "    \n",
    "    Para saber mas ver: [opencv](https://opencv.org/)"
   ]
  },
  {
   "cell_type": "code",
   "execution_count": 1,
   "metadata": {},
   "outputs": [],
   "source": [
    "import os\n",
    "\n",
    "from DataPreparation import downloaddata_1\n",
    "from DataPreparation import downloaddata_2"
   ]
  },
  {
   "cell_type": "code",
   "execution_count": 2,
   "metadata": {},
   "outputs": [],
   "source": [
    "def run():\n",
    "    name_Statistics = \"/Estadistica_de_la_Produccion_Agricola_de_\"\n",
    "    dictionary_Name = \"/Diccionario_de_datos_para_Estadistica_de_Produccion_Agricola\"\n",
    "    \n",
    "    dest_Folder_1 = \"../datos_Estadistica_de_la_Produccion_Agricola_de _1980_2002\"\n",
    "    dest_Folder_2 = \"../datos_Estadistica_de_la_Produccion_Agricola_de _2003_2019\"   \n",
    "    \n",
    "    os.makedirs(dest_Folder_1, exist_ok=True)\n",
    "    os.makedirs(dest_Folder_2, exist_ok=True)\n",
    "\n",
    "\n",
    "    downloaddata_1(dest_Folder_1, name_Statistics, dictionary_Name)\n",
    "    downloaddata_2(dest_Folder_2, name_Statistics, dictionary_Name)"
   ]
  },
  {
   "cell_type": "code",
   "execution_count": 3,
   "metadata": {},
   "outputs": [
    {
     "name": "stderr",
     "output_type": "stream",
     "text": [
      "100%|██████████| 23/23 [01:09<00:00,  3.01s/it]\n",
      " 35%|███▌      | 6/17 [02:38<04:42, 25.66s/it]/home/saxsa/anaconda3/lib/python3.7/site-packages/IPython/core/interactiveshell.py:3331: DtypeWarning: Columns (21) have mixed types.Specify dtype option on import or set low_memory=False.\n",
      "  exec(code_obj, self.user_global_ns, self.user_ns)\n",
      "100%|██████████| 17/17 [07:00<00:00, 24.73s/it]\n"
     ]
    }
   ],
   "source": [
    "run()"
   ]
  }
 ],
 "metadata": {
  "kernelspec": {
   "display_name": "Python 3",
   "language": "python",
   "name": "python3"
  },
  "language_info": {
   "codemirror_mode": {
    "name": "ipython",
    "version": 3
   },
   "file_extension": ".py",
   "mimetype": "text/x-python",
   "name": "python",
   "nbconvert_exporter": "python",
   "pygments_lexer": "ipython3",
   "version": "3.7.7"
  }
 },
 "nbformat": 4,
 "nbformat_minor": 4
}
